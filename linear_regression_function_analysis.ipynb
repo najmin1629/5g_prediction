{
 "cells": [
  {
   "cell_type": "code",
   "execution_count": 1,
   "metadata": {},
   "outputs": [],
   "source": [
    "def coef_linear_reg(first,second):\n",
    "   reg=linear_model.LinearRegression()\n",
    "   reg.fit(first,second)\n",
    "   return reg.coef_"
   ]
  },
  {
   "cell_type": "code",
   "execution_count": 2,
   "metadata": {},
   "outputs": [],
   "source": [
    "def intercept_linear_reg(first,second):\n",
    "   reg=linear_model.LinearRegression()\n",
    "   reg.fit(first,second)\n",
    "   return reg.intercept_"
   ]
  },
  {
   "cell_type": "code",
   "execution_count": 3,
   "metadata": {},
   "outputs": [],
   "source": [
    "def predict_linear_reg(first,second,val):\n",
    "   reg=linear_model.LinearRegression()\n",
    "   reg.fit(first,second)\n",
    "   return reg.predict(val)"
   ]
  },
  {
   "cell_type": "code",
   "execution_count": 4,
   "metadata": {},
   "outputs": [],
   "source": [
    "import pandas as pd\n",
    "import numpy as np\n",
    "from sklearn import linear_model\n",
    "df=pd.read_csv(\"train.csv\")"
   ]
  },
  {
   "cell_type": "code",
   "execution_count": 5,
   "metadata": {},
   "outputs": [
    {
     "data": {
      "text/html": [
       "<div>\n",
       "<style scoped>\n",
       "    .dataframe tbody tr th:only-of-type {\n",
       "        vertical-align: middle;\n",
       "    }\n",
       "\n",
       "    .dataframe tbody tr th {\n",
       "        vertical-align: top;\n",
       "    }\n",
       "\n",
       "    .dataframe thead th {\n",
       "        text-align: right;\n",
       "    }\n",
       "</style>\n",
       "<table border=\"1\" class=\"dataframe\">\n",
       "  <thead>\n",
       "    <tr style=\"text-align: right;\">\n",
       "      <th></th>\n",
       "      <th>prov_id</th>\n",
       "      <th>area_id</th>\n",
       "      <th>user_id</th>\n",
       "      <th>chnl_type</th>\n",
       "      <th>service_type</th>\n",
       "      <th>product_type</th>\n",
       "      <th>innet_months</th>\n",
       "      <th>total_times</th>\n",
       "      <th>total_flux</th>\n",
       "      <th>total_fee</th>\n",
       "      <th>...</th>\n",
       "      <th>active_days20</th>\n",
       "      <th>active_days21</th>\n",
       "      <th>active_days22</th>\n",
       "      <th>active_days23</th>\n",
       "      <th>game_app_flux</th>\n",
       "      <th>live_app_flux</th>\n",
       "      <th>video_app_flux</th>\n",
       "      <th>city_5g_ratio</th>\n",
       "      <th>city_level</th>\n",
       "      <th>is_5g</th>\n",
       "    </tr>\n",
       "  </thead>\n",
       "  <tbody>\n",
       "    <tr>\n",
       "      <th>0</th>\n",
       "      <td>81</td>\n",
       "      <td>V0513400</td>\n",
       "      <td>5f950e1751acd6a6fa9bf88eb5560c78</td>\n",
       "      <td>7</td>\n",
       "      <td>4</td>\n",
       "      <td>5</td>\n",
       "      <td>29</td>\n",
       "      <td>1.149441</td>\n",
       "      <td>10.864754</td>\n",
       "      <td>93.000</td>\n",
       "      <td>...</td>\n",
       "      <td>4.0</td>\n",
       "      <td>2.0</td>\n",
       "      <td>0.0</td>\n",
       "      <td>0.0</td>\n",
       "      <td>0.0</td>\n",
       "      <td>0.00000</td>\n",
       "      <td>5526.494937</td>\n",
       "      <td>0.000512</td>\n",
       "      <td>7.0</td>\n",
       "      <td>1.0</td>\n",
       "    </tr>\n",
       "    <tr>\n",
       "      <th>1</th>\n",
       "      <td>36</td>\n",
       "      <td>V0330200</td>\n",
       "      <td>40015dd14b779d1d3d4e8e2536c6115a</td>\n",
       "      <td>7</td>\n",
       "      <td>4</td>\n",
       "      <td>3</td>\n",
       "      <td>5</td>\n",
       "      <td>0.688337</td>\n",
       "      <td>6.814911</td>\n",
       "      <td>89.912</td>\n",
       "      <td>...</td>\n",
       "      <td>2.0</td>\n",
       "      <td>2.0</td>\n",
       "      <td>0.0</td>\n",
       "      <td>0.0</td>\n",
       "      <td>0.0</td>\n",
       "      <td>0.00000</td>\n",
       "      <td>0.000000</td>\n",
       "      <td>0.000356</td>\n",
       "      <td>3.0</td>\n",
       "      <td>0.0</td>\n",
       "    </tr>\n",
       "    <tr>\n",
       "      <th>2</th>\n",
       "      <td>76</td>\n",
       "      <td>V0410100</td>\n",
       "      <td>72f4ddd94488cc2f30bc83b82f55d3eb</td>\n",
       "      <td>7</td>\n",
       "      <td>4</td>\n",
       "      <td>4</td>\n",
       "      <td>104</td>\n",
       "      <td>1.102318</td>\n",
       "      <td>9.492543</td>\n",
       "      <td>62.670</td>\n",
       "      <td>...</td>\n",
       "      <td>0.0</td>\n",
       "      <td>3.0</td>\n",
       "      <td>0.0</td>\n",
       "      <td>0.0</td>\n",
       "      <td>0.0</td>\n",
       "      <td>0.00000</td>\n",
       "      <td>1235.091633</td>\n",
       "      <td>0.000490</td>\n",
       "      <td>3.0</td>\n",
       "      <td>0.0</td>\n",
       "    </tr>\n",
       "    <tr>\n",
       "      <th>3</th>\n",
       "      <td>84</td>\n",
       "      <td>V0610100</td>\n",
       "      <td>845983a3e7973b0016c73071f4c70c1c</td>\n",
       "      <td>10</td>\n",
       "      <td>4</td>\n",
       "      <td>5</td>\n",
       "      <td>15</td>\n",
       "      <td>0.122139</td>\n",
       "      <td>5.008418</td>\n",
       "      <td>75.798</td>\n",
       "      <td>...</td>\n",
       "      <td>4.0</td>\n",
       "      <td>4.0</td>\n",
       "      <td>0.0</td>\n",
       "      <td>0.0</td>\n",
       "      <td>0.0</td>\n",
       "      <td>9.13548</td>\n",
       "      <td>1194.355876</td>\n",
       "      <td>0.000328</td>\n",
       "      <td>2.0</td>\n",
       "      <td>0.0</td>\n",
       "    </tr>\n",
       "    <tr>\n",
       "      <th>4</th>\n",
       "      <td>85</td>\n",
       "      <td>V0520100</td>\n",
       "      <td>0326fbd12145c5378baf5168a8e9c8fe</td>\n",
       "      <td>7</td>\n",
       "      <td>4</td>\n",
       "      <td>3</td>\n",
       "      <td>21</td>\n",
       "      <td>0.158738</td>\n",
       "      <td>9.745640</td>\n",
       "      <td>54.500</td>\n",
       "      <td>...</td>\n",
       "      <td>20.0</td>\n",
       "      <td>0.0</td>\n",
       "      <td>6.0</td>\n",
       "      <td>1.0</td>\n",
       "      <td>0.0</td>\n",
       "      <td>0.00000</td>\n",
       "      <td>26.783371</td>\n",
       "      <td>0.000830</td>\n",
       "      <td>6.0</td>\n",
       "      <td>0.0</td>\n",
       "    </tr>\n",
       "  </tbody>\n",
       "</table>\n",
       "<p>5 rows × 60 columns</p>\n",
       "</div>"
      ],
      "text/plain": [
       "   prov_id   area_id                           user_id  chnl_type  \\\n",
       "0       81  V0513400  5f950e1751acd6a6fa9bf88eb5560c78          7   \n",
       "1       36  V0330200  40015dd14b779d1d3d4e8e2536c6115a          7   \n",
       "2       76  V0410100  72f4ddd94488cc2f30bc83b82f55d3eb          7   \n",
       "3       84  V0610100  845983a3e7973b0016c73071f4c70c1c         10   \n",
       "4       85  V0520100  0326fbd12145c5378baf5168a8e9c8fe          7   \n",
       "\n",
       "   service_type  product_type  innet_months  total_times  total_flux  \\\n",
       "0             4             5            29     1.149441   10.864754   \n",
       "1             4             3             5     0.688337    6.814911   \n",
       "2             4             4           104     1.102318    9.492543   \n",
       "3             4             5            15     0.122139    5.008418   \n",
       "4             4             3            21     0.158738    9.745640   \n",
       "\n",
       "   total_fee  ...    active_days20  active_days21  active_days22  \\\n",
       "0     93.000  ...              4.0            2.0            0.0   \n",
       "1     89.912  ...              2.0            2.0            0.0   \n",
       "2     62.670  ...              0.0            3.0            0.0   \n",
       "3     75.798  ...              4.0            4.0            0.0   \n",
       "4     54.500  ...             20.0            0.0            6.0   \n",
       "\n",
       "   active_days23  game_app_flux  live_app_flux  video_app_flux  city_5g_ratio  \\\n",
       "0            0.0            0.0        0.00000     5526.494937       0.000512   \n",
       "1            0.0            0.0        0.00000        0.000000       0.000356   \n",
       "2            0.0            0.0        0.00000     1235.091633       0.000490   \n",
       "3            0.0            0.0        9.13548     1194.355876       0.000328   \n",
       "4            1.0            0.0        0.00000       26.783371       0.000830   \n",
       "\n",
       "   city_level  is_5g  \n",
       "0         7.0    1.0  \n",
       "1         3.0    0.0  \n",
       "2         3.0    0.0  \n",
       "3         2.0    0.0  \n",
       "4         6.0    0.0  \n",
       "\n",
       "[5 rows x 60 columns]"
      ]
     },
     "execution_count": 5,
     "metadata": {},
     "output_type": "execute_result"
    }
   ],
   "source": [
    "df.head()"
   ]
  },
  {
   "cell_type": "code",
   "execution_count": 6,
   "metadata": {},
   "outputs": [
    {
     "data": {
      "text/html": [
       "<div>\n",
       "<style scoped>\n",
       "    .dataframe tbody tr th:only-of-type {\n",
       "        vertical-align: middle;\n",
       "    }\n",
       "\n",
       "    .dataframe tbody tr th {\n",
       "        vertical-align: top;\n",
       "    }\n",
       "\n",
       "    .dataframe thead th {\n",
       "        text-align: right;\n",
       "    }\n",
       "</style>\n",
       "<table border=\"1\" class=\"dataframe\">\n",
       "  <thead>\n",
       "    <tr style=\"text-align: right;\">\n",
       "      <th></th>\n",
       "      <th>prov_id</th>\n",
       "      <th>product_type</th>\n",
       "      <th>total_fee</th>\n",
       "      <th>city_level</th>\n",
       "    </tr>\n",
       "  </thead>\n",
       "  <tbody>\n",
       "    <tr>\n",
       "      <th>0</th>\n",
       "      <td>81</td>\n",
       "      <td>5</td>\n",
       "      <td>93.000</td>\n",
       "      <td>7.0</td>\n",
       "    </tr>\n",
       "    <tr>\n",
       "      <th>1</th>\n",
       "      <td>36</td>\n",
       "      <td>3</td>\n",
       "      <td>89.912</td>\n",
       "      <td>3.0</td>\n",
       "    </tr>\n",
       "    <tr>\n",
       "      <th>2</th>\n",
       "      <td>76</td>\n",
       "      <td>4</td>\n",
       "      <td>62.670</td>\n",
       "      <td>3.0</td>\n",
       "    </tr>\n",
       "    <tr>\n",
       "      <th>3</th>\n",
       "      <td>84</td>\n",
       "      <td>5</td>\n",
       "      <td>75.798</td>\n",
       "      <td>2.0</td>\n",
       "    </tr>\n",
       "    <tr>\n",
       "      <th>4</th>\n",
       "      <td>85</td>\n",
       "      <td>3</td>\n",
       "      <td>54.500</td>\n",
       "      <td>6.0</td>\n",
       "    </tr>\n",
       "  </tbody>\n",
       "</table>\n",
       "</div>"
      ],
      "text/plain": [
       "   prov_id  product_type  total_fee  city_level\n",
       "0       81             5     93.000         7.0\n",
       "1       36             3     89.912         3.0\n",
       "2       76             4     62.670         3.0\n",
       "3       84             5     75.798         2.0\n",
       "4       85             3     54.500         6.0"
      ]
     },
     "execution_count": 6,
     "metadata": {},
     "output_type": "execute_result"
    }
   ],
   "source": [
    "df1=df[['prov_id','product_type','total_fee','city_level']].head()\n",
    "df1.head()"
   ]
  },
  {
   "cell_type": "code",
   "execution_count": 7,
   "metadata": {},
   "outputs": [
    {
     "data": {
      "text/plain": [
       "array([-0.95289994, 16.57839933,  3.53147533])"
      ]
     },
     "execution_count": 7,
     "metadata": {},
     "output_type": "execute_result"
    }
   ],
   "source": [
    "coef_linear_reg(df1[['prov_id','product_type','city_level']],df1.total_fee)"
   ]
  },
  {
   "cell_type": "code",
   "execution_count": 8,
   "metadata": {},
   "outputs": [
    {
     "data": {
      "text/plain": [
       "63.02016185666438"
      ]
     },
     "execution_count": 8,
     "metadata": {},
     "output_type": "execute_result"
    }
   ],
   "source": [
    "intercept_linear_reg(df1[['prov_id','product_type','city_level']],df1.total_fee)"
   ]
  },
  {
   "cell_type": "code",
   "execution_count": 9,
   "metadata": {},
   "outputs": [
    {
     "data": {
      "text/plain": [
       "array([60.17826546])"
      ]
     },
     "execution_count": 9,
     "metadata": {},
     "output_type": "execute_result"
    }
   ],
   "source": [
    "predict_linear_reg(df1[['prov_id','product_type','city_level']],df1.total_fee,[[70,3,4.0]])"
   ]
  },
  {
   "cell_type": "code",
   "execution_count": 10,
   "metadata": {},
   "outputs": [
    {
     "data": {
      "text/plain": [
       "60.17826536666439"
      ]
     },
     "execution_count": 10,
     "metadata": {},
     "output_type": "execute_result"
    }
   ],
   "source": [
    "70*-0.95289994+3*16.57839933+4.0*3.53147533+63.02016185666438"
   ]
  },
  {
   "cell_type": "code",
   "execution_count": 11,
   "metadata": {},
   "outputs": [],
   "source": [
    "def equation_cal(first,second,var):\n",
    "    coef=coef_linear_reg(first,second)\n",
    "    intercept=intercept_linear_reg(first,second)\n",
    "    predict=predict_linear_reg(first,second,var)\n",
    "    coef_len=len(coef)\n",
    "    mx=0\n",
    "    for i in range (0,coef_len):\n",
    "        temp=coef[i]*var[0][i]\n",
    "        mx=mx+temp\n",
    "    eq=\"y(\"+str(predict[0])+\")=mx(\"+str(mx)+\")+b(\"+str(intercept)+\")\"\n",
    "    return eq"
   ]
  },
  {
   "cell_type": "code",
   "execution_count": 12,
   "metadata": {},
   "outputs": [
    {
     "data": {
      "text/plain": [
       "'y(60.1782654592403)=mx(-2.841896397424078)+b(63.02016185666438)'"
      ]
     },
     "execution_count": 12,
     "metadata": {},
     "output_type": "execute_result"
    }
   ],
   "source": [
    "equation_cal(df1[['prov_id','product_type','city_level']],df1.total_fee,[[70,3,4.0]])"
   ]
  },
  {
   "cell_type": "code",
   "execution_count": 13,
   "metadata": {},
   "outputs": [
    {
     "data": {
      "text/plain": [
       "60.1782654592403"
      ]
     },
     "execution_count": 13,
     "metadata": {},
     "output_type": "execute_result"
    }
   ],
   "source": [
    "-2.841896397424078+63.02016185666438"
   ]
  },
  {
   "cell_type": "code",
   "execution_count": null,
   "metadata": {},
   "outputs": [],
   "source": []
  }
 ],
 "metadata": {
  "kernelspec": {
   "display_name": "Python 3",
   "language": "python",
   "name": "python3"
  },
  "language_info": {
   "codemirror_mode": {
    "name": "ipython",
    "version": 3
   },
   "file_extension": ".py",
   "mimetype": "text/x-python",
   "name": "python",
   "nbconvert_exporter": "python",
   "pygments_lexer": "ipython3",
   "version": "3.7.1"
  }
 },
 "nbformat": 4,
 "nbformat_minor": 2
}
